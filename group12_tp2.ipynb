{
 "cells": [
  {
   "cell_type": "markdown",
   "metadata": {},
   "source": [
    "## TP2 Groupe 12\n",
    "\n",
    "- Châkirou ALABANI\n",
    "- Caroline Fortier\n",
    "- Mahsa Farnia"
   ]
  },
  {
   "cell_type": "code",
   "execution_count": 2,
   "metadata": {},
   "outputs": [
    {
     "name": "stdout",
     "output_type": "stream",
     "text": [
      "Warning: Cannot change to a different GUI toolkit: widget. Using notebook instead.\n"
     ]
    }
   ],
   "source": [
    "import sklearn\n",
    "import numpy as np\n",
    "import scipy as sp\n",
    "import pandas as pd\n",
    "%matplotlib notebook\n",
    "%matplotlib inline\n",
    "%matplotlib widget\n",
    "import matplotlib.pyplot as plt\n",
    "import seaborn as sns"
   ]
  },
  {
   "cell_type": "markdown",
   "metadata": {},
   "source": [
    "## 1.  Analyse des données\n"
   ]
  },
  {
   "cell_type": "code",
   "execution_count": 6,
   "metadata": {},
   "outputs": [
    {
     "data": {
      "text/plain": [
       "(1172312, 6)"
      ]
     },
     "execution_count": 6,
     "metadata": {},
     "output_type": "execute_result"
    }
   ],
   "source": [
    "#import des données \n",
    "# \n",
    "file_a = \"données/order_products__prior_specials.csv\"\n",
    "data_a = pd.read_csv(file_a)\n",
    "\n",
    "# dimensions de notre dataframe\n",
    "data_a.shape #"
   ]
  },
  {
   "cell_type": "code",
   "execution_count": 8,
   "metadata": {},
   "outputs": [
    {
     "data": {
      "text/plain": [
       "<bound method NDFrame.describe of          Unnamed: 0  order_id  product_id  add_to_cart_order  reordered  \\\n",
       "0                 0        15       19660                  1          1   \n",
       "1                 1        15       21195                  2          1   \n",
       "2                 2        15        7461                  3          1   \n",
       "3                 3        15        2996                  4          1   \n",
       "4                 4        15       32463                  5          1   \n",
       "...             ...       ...         ...                ...        ...   \n",
       "1172307     1172307   3421069       21137                  8          1   \n",
       "1172308     1172308   3421069       30391                  9          1   \n",
       "1172309     1172309   3421069       18656                 10          1   \n",
       "1172310     1172310   3421069       26940                 11          1   \n",
       "1172311     1172311   3421069       19057                 12          1   \n",
       "\n",
       "         special  \n",
       "0             15  \n",
       "1              0  \n",
       "2             50  \n",
       "3              0  \n",
       "4              0  \n",
       "...          ...  \n",
       "1172307        0  \n",
       "1172308       15  \n",
       "1172309        0  \n",
       "1172310       15  \n",
       "1172311        0  \n",
       "\n",
       "[1172312 rows x 6 columns]>"
      ]
     },
     "execution_count": 8,
     "metadata": {},
     "output_type": "execute_result"
    }
   ],
   "source": [
    "# affichage du describe et du head\n",
    "data_a.describe"
   ]
  }
 ],
 "metadata": {
  "kernelspec": {
   "display_name": "Python 3",
   "language": "python",
   "name": "python3"
  },
  "language_info": {
   "codemirror_mode": {
    "name": "ipython",
    "version": 3
   },
   "file_extension": ".py",
   "mimetype": "text/x-python",
   "name": "python",
   "nbconvert_exporter": "python",
   "pygments_lexer": "ipython3",
   "version": "3.10.12"
  }
 },
 "nbformat": 4,
 "nbformat_minor": 2
}
